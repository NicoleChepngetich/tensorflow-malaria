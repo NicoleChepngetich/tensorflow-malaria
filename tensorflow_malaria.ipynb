{
 "cells": [
  {
   "cell_type": "code",
   "execution_count": null,
   "metadata": {},
   "outputs": [],
   "source": [
    "import tensorflow as tf\n",
    "import tensorflow_datasets as tfds\n",
    "\n",
    "# Load the dataset\n",
    "train_ds = tfds.load('malaria', split='train[:80%]', as_supervised=True)\n",
    "validation_ds = tfds.load('malaria', split='train[80%:]', as_supervised=True)\n",
    "\n",
    "# Preprocess the dataset\n",
    "def preprocess_image(image, label):\n",
    "    image = tf.image.resize(image, (128, 128))\n",
    "    image = tf.cast(image, tf.float32) / 255.0\n",
    "    return image, label\n",
    "\n",
    "train_ds = train_ds.map(preprocess_image, num_parallel_calls=tf.data.AUTOTUNE)\n",
    "validation_ds = validation_ds.map(preprocess_image, num_parallel_calls=tf.data.AUTOTUNE)\n",
    "\n",
    "# Batch and prefetch the datasets\n",
    "train_ds = train_ds.batch(32).prefetch(tf.data.AUTOTUNE)\n",
    "validation_ds = validation_ds.batch(32).prefetch(tf.data.AUTOTUNE)\n",
    "\n",
    "# Build the model\n",
    "model = tf.keras.Sequential([\n",
    "    tf.keras.layers.Conv2D(32, (3, 3), activation='relu', input_shape=(128, 128, 3)),\n",
    "    tf.keras.layers.MaxPooling2D((2, 2)),\n",
    "    tf.keras.layers.Conv2D(64, (3, 3), activation='relu'),\n",
    "    tf.keras.layers.MaxPooling2D((2, 2)),\n",
    "    tf.keras.layers.Conv2D(128, (3, 3), activation='relu'),\n",
    "    tf.keras.layers.MaxPooling2D((2, 2)),\n",
    "    tf.keras.layers.Flatten(),\n",
    "    tf.keras.layers.Dense(128, activation='relu'),\n",
    "    tf.keras.layers.Dropout(0.5),\n",
    "    tf.keras.layers.Dense(2, activation='softmax')  # 2 classes: uninfected and parasitized\n",
    "])\n",
    "\n",
    "# Compile the model\n",
    "model.compile(optimizer='adam', loss='sparse_categorical_crossentropy', metrics=['accuracy'])"
   ]
  },
  {
   "cell_type": "code",
   "execution_count": null,
   "metadata": {},
   "outputs": [],
   "source": [
    "#train the model\n",
    "history = model.fit(train_ds, epochs=1, validation_data=validation_ds)\n",
    "\n",
    "\n",
    "#"
   ]
  },
  {
   "cell_type": "code",
   "execution_count": null,
   "metadata": {},
   "outputs": [],
   "source": [
    "# Load the malaria dataset\n",
    "train_ds, test_ds = tfds.load('malaria', split=['train[:80%]', 'train[80%:]'], as_supervised=True)\n",
    "\n",
    "# Preprocess the test dataset\n",
    "test_ds = test_ds.map(preprocess_image).batch(32).prefetch(tf.data.AUTOTUNE)\n",
    "\n",
    "# Evaluate the model\n",
    "loss, accuracy = model.evaluate(test_ds)\n",
    "print(f\"Test accuracy: {accuracy:.2f}\")"
   ]
  },
  {
   "cell_type": "code",
   "execution_count": null,
   "metadata": {},
   "outputs": [],
   "source": [
    "import matplotlib.pyplot as plt\n",
    "\n",
    "# Assuming test_ds contains preprocessed images\n",
    "for images, labels in test_ds.take(1):  # Take one batch of images\n",
    "    for i in range(len(images)):  # Iterate through each image in the batch\n",
    "        plt.imshow(images[i])  # Visualize the image\n",
    "        plt.title(f\"Label: {labels[i]}\")  # Display the label as the title\n",
    "        plt.axis('off')  # Remove axes\n",
    "        plt.show()  # Show the image"
   ]
  }
 ],
 "metadata": {
  "language_info": {
   "name": "python"
  }
 },
 "nbformat": 4,
 "nbformat_minor": 2
}
